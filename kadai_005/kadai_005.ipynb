{
  "nbformat": 4,
  "nbformat_minor": 0,
  "metadata": {
    "colab": {
      "provenance": []
    },
    "kernelspec": {
      "name": "python3",
      "display_name": "Python 3"
    },
    "language_info": {
      "name": "python"
    }
  },
  "cells": [
    {
      "cell_type": "code",
      "execution_count": 1,
      "metadata": {
        "colab": {
          "base_uri": "https://localhost:8080/"
        },
        "id": "lyaADDoacaoj",
        "outputId": "1f08e97a-fe6e-411d-badc-fe7761d1b375"
      },
      "outputs": [
        {
          "output_type": "stream",
          "name": "stdout",
          "text": [
            "台形の面積は150㎠です。\n"
          ]
        }
      ],
      "source": [
        "# 辺や高さの設定値\n",
        "top = 10\n",
        "bottom = 20\n",
        "height = 5\n",
        "\n",
        "# 台形の面積\n",
        "area = (top + bottom)*height\n",
        "\n",
        "print(f\"台形の面積は{area}㎠です。\")"
      ]
    }
  ]
}